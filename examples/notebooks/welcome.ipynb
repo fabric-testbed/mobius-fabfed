{
 "cells": [
  {
   "cell_type": "code",
   "execution_count": null,
   "id": "4f9b7ae9-eec8-4bc6-93fe-e3dc75bbbb80",
   "metadata": {},
   "outputs": [],
   "source": [
    "# Welcome to FabFed\n",
    "The following script outlines the steps involved in utilizing the FABFED toolkit."
   ]
  },
  {
   "cell_type": "raw",
   "id": "f4388619-9652-4a9d-85bd-611ffde941f8",
   "metadata": {},
   "source": [
    "## Installation"
   ]
  },
  {
   "cell_type": "code",
   "execution_count": null,
   "id": "f58a4365-1519-4a17-bda9-059088c5f71d",
   "metadata": {},
   "outputs": [],
   "source": [
    "!pip install --upgrade fabfed-py --quiet\n",
    "\n",
    "## cloudlab needs to be installed from git repo\n",
    "!pip install git+https://gitlab.flux.utah.edu/stoller/portal-tools.git --quiet\n",
    "\n",
    "!pip show fabfed-py"
   ]
  },
  {
   "cell_type": "markdown",
   "id": "a8dc0d58-85f6-4b7b-866d-898704784cbb",
   "metadata": {},
   "source": [
    "## Credential Configuration\n",
    "\n",
    "The Fabfed credential file is a YAML file that contains account information and keying material for each provider using sections aka profiles. The code below will copy the template file and link it to standard location. "
   ]
  },
  {
   "cell_type": "code",
   "execution_count": null,
   "id": "dd5c21d0-d8d7-49e1-bc59-15004613ac20",
   "metadata": {},
   "outputs": [],
   "source": [
    "import os\n",
    "import shutil\n",
    "import demo_helper as dh\n",
    "\n",
    "credentials = './fabfed_credentials.yml'\n",
    "\n",
    "if not os.path.exists(credentials):\n",
    "    source_file = '../fabfed_config/fabfed_credentials_template.yml'\n",
    "    shutil.copy(source_file, credentials)\n",
    "\n",
    "default_credentials = dh.default_credentials_location()\n",
    "\n",
    "if not os.path.exists(default_credentials):\n",
    "    os.makedirs('~/.fabfed', exist_ok=True)\n",
    "    os.link(credentials, default_credentials)\n",
    "    "
   ]
  },
  {
   "cell_type": "markdown",
   "id": "50c2dae7-201c-4b45-8ccf-15c2dedc1853",
   "metadata": {},
   "source": [
    "## Open Credential File And Edit Providers You Plan On Using\n",
    "\n",
    "- Click to open [credential file](./fabfed_credentials.yml)"
   ]
  },
  {
   "cell_type": "markdown",
   "id": "bbcc47d5-f793-480a-8827-5d73436b73b8",
   "metadata": {},
   "source": [
    "## Sample Notebooks.\n",
    "\n",
    "- Getting Started: [fabric](./getting_started_example.ipynb )\n",
    "- Basic Stiching: [cloudlab](./basic_stitching_example.ipynb)\n",
    "- Advanced Stiching: [cloudlab-chameleon](./advanced_stitching_example.ipynb)"
   ]
  }
 ],
 "metadata": {
  "kernelspec": {
   "display_name": "Python 3 (ipykernel)",
   "language": "python",
   "name": "python3"
  },
  "language_info": {
   "codemirror_mode": {
    "name": "ipython",
    "version": 3
   },
   "file_extension": ".py",
   "mimetype": "text/x-python",
   "name": "python",
   "nbconvert_exporter": "python",
   "pygments_lexer": "ipython3",
   "version": "3.9.16"
  }
 },
 "nbformat": 4,
 "nbformat_minor": 5
}
