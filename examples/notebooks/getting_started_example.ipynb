{
 "cells": [
  {
   "cell_type": "markdown",
   "id": "aff97f26-a2fc-404f-ad03-fcf3f5517e46",
   "metadata": {},
   "source": [
    "# Getting Started Example\n",
    "\n",
    "There are a number of samples under the parent directory.\n",
    "Here we use a simple config [../getting_started/fabric](../getting_started/fabric/README.md) to create a node in fabric.\n"
   ]
  },
  {
   "cell_type": "code",
   "execution_count": null,
   "id": "db12b2a4-b849-4ea9-9ac3-51bcdb65f4cd",
   "metadata": {},
   "outputs": [],
   "source": [
    "import os\n",
    "import shutil\n",
    "import demo_helper as dh\n",
    "\n",
    "# It is best practice to add your initials to name the session\n",
    "initials = \"ae\"\n",
    "session_name = f\"{initials}-hello-fabric\" \n",
    "experiment_path = 'hello_fabric'\n",
    "fab_file_path = '../getting_started/fabric/config.fab'\n",
    "destination_file = f'{experiment_path}/config.fab'\n",
    "    \n",
    "if not os.path.exists(destination_file):\n",
    "    os.mkdir(experiment_path)\n",
    "    shutil.copy(fab_file_path, destination_file)\n",
    "\n",
    "if not os.path.exists(dh.default_credentials_location()):\n",
    "    print(\"WARNING: Please see the welcome notebook to prepare the credential file\")\n",
    "    "
   ]
  },
  {
   "cell_type": "markdown",
   "id": "dd682a85-3624-4766-b118-7f595886e261",
   "metadata": {},
   "source": [
    "## Useful Commands"
   ]
  },
  {
   "cell_type": "code",
   "execution_count": null,
   "id": "72148135-c66f-41ed-9a36-b037c7fbb966",
   "metadata": {},
   "outputs": [],
   "source": [
    "!fabfed workflow -s $session_name -c $experiment_path -validate"
   ]
  },
  {
   "cell_type": "code",
   "execution_count": null,
   "id": "0aa67fe6-34b4-4a20-b9b3-a5fb6921efd2",
   "metadata": {},
   "outputs": [],
   "source": [
    "!fabfed workflow -s $session_name -c $experiment_path -plan -summary"
   ]
  },
  {
   "cell_type": "code",
   "execution_count": null,
   "id": "9d3324c9-004e-4c29-b768-08b2de294ed3",
   "metadata": {},
   "outputs": [],
   "source": [
    "!fabfed workflow -s $session_name -c  $experiment_path -stitch-info -summary"
   ]
  },
  {
   "cell_type": "markdown",
   "id": "521f296f-104d-409b-a3b5-3ff21248ff59",
   "metadata": {},
   "source": [
    "## Create, Show, Destroy"
   ]
  },
  {
   "cell_type": "code",
   "execution_count": null,
   "id": "e5e16ead-338b-4e3c-9e38-61203a2489f4",
   "metadata": {
    "scrolled": true
   },
   "outputs": [],
   "source": [
    "!fabfed workflow -s $session_name -c $experiment_path -apply"
   ]
  },
  {
   "cell_type": "markdown",
   "id": "856ad398-56c0-4905-b469-8685ef353f8e",
   "metadata": {},
   "source": [
    "!fabfed workflow -s $session_name -c $experiment_path -show -summary"
   ]
  },
  {
   "cell_type": "code",
   "execution_count": null,
   "id": "57305ac9-fa7e-4578-a200-ecdcb74a2a4c",
   "metadata": {},
   "outputs": [],
   "source": [
    "!fabfed workflow -s $session_name -c $experiment_path -destroy"
   ]
  }
 ],
 "metadata": {
  "kernelspec": {
   "display_name": "Python 3 (ipykernel)",
   "language": "python",
   "name": "python3"
  },
  "language_info": {
   "codemirror_mode": {
    "name": "ipython",
    "version": 3
   },
   "file_extension": ".py",
   "mimetype": "text/x-python",
   "name": "python",
   "nbconvert_exporter": "python",
   "pygments_lexer": "ipython3",
   "version": "3.9.16"
  }
 },
 "nbformat": 4,
 "nbformat_minor": 5
}
